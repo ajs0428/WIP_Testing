{
 "cells": [
  {
   "cell_type": "code",
   "execution_count": 6,
   "id": "eb319bb0-6d76-410a-a3d8-8ae1aa6c0b96",
   "metadata": {},
   "outputs": [
    {
     "data": {
      "text/html": [
       "\n",
       "            <style>\n",
       "                .geemap-dark {\n",
       "                    --jp-widgets-color: white;\n",
       "                    --jp-widgets-label-color: white;\n",
       "                    --jp-ui-font-color1: white;\n",
       "                    --jp-layout-color2: #454545;\n",
       "                    background-color: #383838;\n",
       "                }\n",
       "\n",
       "                .geemap-dark .jupyter-button {\n",
       "                    --jp-layout-color3: #383838;\n",
       "                }\n",
       "\n",
       "                .geemap-colab {\n",
       "                    background-color: var(--colab-primary-surface-color, white);\n",
       "                }\n",
       "\n",
       "                .geemap-colab .jupyter-button {\n",
       "                    --jp-layout-color3: var(--colab-primary-surface-color, white);\n",
       "                }\n",
       "            </style>\n",
       "            "
      ],
      "text/plain": [
       "<IPython.core.display.HTML object>"
      ]
     },
     "metadata": {},
     "output_type": "display_data"
    }
   ],
   "source": [
    "import ee\n",
    "import geemap\n",
    "\n",
    "ee.Authenticate()\n",
    "ee.Initialize()\n",
    "\n",
    "# Define the area of Washington State\n",
    "wa_geometry = ee.FeatureCollection(\"TIGER/2018/States\").filter(ee.Filter.eq('NAME', 'Washington')).geometry()\n",
    "\n",
    "# Define Snoqualmie watershed\n",
    "snoqualmie_geometry = ee.FeatureCollection(\"USGS/WBD/2017/HUC08\").filter(ee.Filter.eq('name', 'Snoqualmie')).geometry()\n",
    "\n",
    "# Define Landsat ImageCollection\n",
    "landsat = ee.ImageCollection(\"LANDSAT/LC08/C01/T1_TOA\")\n",
    "\n",
    "# Define time period\n",
    "start_date = '2015-01-01'\n",
    "end_date = '2020-12-31'\n",
    "\n",
    "# Define start and end DOY\n",
    "start_doy = 244\n",
    "end_doy = 258"
   ]
  },
  {
   "cell_type": "code",
   "execution_count": 7,
   "id": "803addde-e9d2-4e80-892c-ff3ebc303485",
   "metadata": {},
   "outputs": [
    {
     "data": {
      "text/html": [
       "\n",
       "            <style>\n",
       "                .geemap-dark {\n",
       "                    --jp-widgets-color: white;\n",
       "                    --jp-widgets-label-color: white;\n",
       "                    --jp-ui-font-color1: white;\n",
       "                    --jp-layout-color2: #454545;\n",
       "                    background-color: #383838;\n",
       "                }\n",
       "\n",
       "                .geemap-dark .jupyter-button {\n",
       "                    --jp-layout-color3: #383838;\n",
       "                }\n",
       "\n",
       "                .geemap-colab {\n",
       "                    background-color: var(--colab-primary-surface-color, white);\n",
       "                }\n",
       "\n",
       "                .geemap-colab .jupyter-button {\n",
       "                    --jp-layout-color3: var(--colab-primary-surface-color, white);\n",
       "                }\n",
       "            </style>\n",
       "            "
      ],
      "text/plain": [
       "<IPython.core.display.HTML object>"
      ]
     },
     "metadata": {},
     "output_type": "display_data"
    }
   ],
   "source": [
    "def calculate_indices(image):\n",
    "    # Extract bands\n",
    "    NIR = image.select('B5')\n",
    "    RED = image.select('B4')\n",
    "    GREEN = image.select('B3')\n",
    "    BLUE = image.select('B2')\n",
    "    SWIR1 = image.select('B6')\n",
    "\n",
    "    # Calculate spectral indices\n",
    "    NDVI = NIR.subtract(RED).divide(NIR.add(RED)).rename('NDVI')\n",
    "    MNDWI = GREEN.subtract(SWIR1).divide(GREEN.add(SWIR1)).rename('MNDWI')\n",
    "    \n",
    "    # Calculate EVI (Landsat 8)\n",
    "    EVI = image.expression(\n",
    "        '2.5 * ((NIR - RED) / (NIR + 6 * RED - 7.5 * BLUE + 1))',\n",
    "        {'NIR': NIR, 'RED': RED, 'BLUE': BLUE}\n",
    "    ).rename('EVI')\n",
    "\n",
    "    # Calculate NDYI\n",
    "    NDYI = GREEN.subtract(BLUE).divide(GREEN.add(BLUE)).rename('NDYI')\n",
    "\n",
    "    # Add bands to the image\n",
    "    image = image.addBands([NDVI, MNDWI, EVI, NDYI])\n",
    "\n",
    "    return image\n"
   ]
  },
  {
   "cell_type": "code",
   "execution_count": 8,
   "id": "d8992ad1-700d-4529-8ef8-d85f005e39e3",
   "metadata": {},
   "outputs": [
    {
     "data": {
      "text/html": [
       "\n",
       "            <style>\n",
       "                .geemap-dark {\n",
       "                    --jp-widgets-color: white;\n",
       "                    --jp-widgets-label-color: white;\n",
       "                    --jp-ui-font-color1: white;\n",
       "                    --jp-layout-color2: #454545;\n",
       "                    background-color: #383838;\n",
       "                }\n",
       "\n",
       "                .geemap-dark .jupyter-button {\n",
       "                    --jp-layout-color3: #383838;\n",
       "                }\n",
       "\n",
       "                .geemap-colab {\n",
       "                    background-color: var(--colab-primary-surface-color, white);\n",
       "                }\n",
       "\n",
       "                .geemap-colab .jupyter-button {\n",
       "                    --jp-layout-color3: var(--colab-primary-surface-color, white);\n",
       "                }\n",
       "            </style>\n",
       "            "
      ],
      "text/plain": [
       "<IPython.core.display.HTML object>"
      ]
     },
     "metadata": {},
     "output_type": "display_data"
    }
   ],
   "source": [
    "# Filter Landsat ImageCollection\n",
    "landsat_filtered = landsat.filterBounds(snoqualmie_geometry).filterDate(start_date, end_date)\n",
    "\n",
    "# Filter by start_doy and end_doy\n",
    "landsat_filtered = landsat_filtered.filter(ee.Filter.dayOfYear(start_doy, end_doy))\n",
    "\n",
    "# Cloud masking function\n",
    "def maskClouds(image):\n",
    "    # Select the QA band\n",
    "    QA = image.select('BQA')\n",
    "    # Create a mask to exclude cloudy pixels\n",
    "    cloud_mask = QA.bitwiseAnd(1 << 4).eq(0)  # Exclude clouds (bit 4)\n",
    "    # Apply the mask to the image\n",
    "    return image.updateMask(cloud_mask)\n",
    "\n",
    "# Apply cloud masking function\n",
    "landsat_filtered = landsat_filtered.map(maskClouds)\n",
    "\n",
    "# Apply spectral indices functions to filtered Landsat ImageCollection\n",
    "landsat_with_indices = landsat_filtered.map(calculate_indices)"
   ]
  },
  {
   "cell_type": "code",
   "execution_count": 10,
   "id": "4468426a-9c5c-41ce-89d2-9505a2886703",
   "metadata": {
    "collapsed": true,
    "jupyter": {
     "outputs_hidden": true
    }
   },
   "outputs": [
    {
     "data": {
      "text/html": [
       "\n",
       "            <style>\n",
       "                .geemap-dark {\n",
       "                    --jp-widgets-color: white;\n",
       "                    --jp-widgets-label-color: white;\n",
       "                    --jp-ui-font-color1: white;\n",
       "                    --jp-layout-color2: #454545;\n",
       "                    background-color: #383838;\n",
       "                }\n",
       "\n",
       "                .geemap-dark .jupyter-button {\n",
       "                    --jp-layout-color3: #383838;\n",
       "                }\n",
       "\n",
       "                .geemap-colab {\n",
       "                    background-color: var(--colab-primary-surface-color, white);\n",
       "                }\n",
       "\n",
       "                .geemap-colab .jupyter-button {\n",
       "                    --jp-layout-color3: var(--colab-primary-surface-color, white);\n",
       "                }\n",
       "            </style>\n",
       "            "
      ],
      "text/plain": [
       "<IPython.core.display.HTML object>"
      ]
     },
     "metadata": {},
     "output_type": "display_data"
    },
    {
     "data": {
      "application/vnd.jupyter.widget-view+json": {
       "model_id": "fcf06254f1b24b1d91344b25c51b1e05",
       "version_major": 2,
       "version_minor": 0
      },
      "text/plain": [
       "Map(center=[47.58728226482567, -121.6926530031262], controls=(WidgetControl(options=['position', 'transparent_…"
      ]
     },
     "execution_count": 10,
     "metadata": {},
     "output_type": "execute_result"
    }
   ],
   "source": [
    "#Reduce the ImageCollection to a single Image (using median)\n",
    "composite = landsat_with_indices.reduce(ee.Reducer.median())\n",
    "\n",
    "# Create a Map object\n",
    "Map = geemap.Map(center=[47.5433, -121.8363], zoom=9)  # Centered on Snoqualmie Watershed\n",
    "\n",
    "# Clip the Image to the Snoqualmie watershed and visualize indices\n",
    "indices_to_visualize = ['NDVI_median', 'MNDWI_median', 'EVI_median', 'NDYI_median']\n",
    "\n",
    "clipped_image = composite.clip(snoqualmie_geometry)\n",
    "    \n",
    "for index_name in indices_to_visualize:\n",
    "    # Select index\n",
    "    index_image = clipped_image.select(index_name)\n",
    "        \n",
    "    # Add index layer to the map\n",
    "    Map.addLayer(index_image, {}, f'{index_name}_Snoqualmie')\n",
    "\n",
    "# Display the map\n",
    "Map.addLayer(snoqualmie_geometry, {}, 'Snoqualmie Watershed')\n",
    "Map.centerObject(snoqualmie_geometry, 9)\n",
    "Map"
   ]
  },
  {
   "cell_type": "code",
   "execution_count": 5,
   "id": "f6c3187e-0f72-4382-8bd3-1981c0de7ce1",
   "metadata": {},
   "outputs": [
    {
     "data": {
      "text/html": [
       "\n",
       "            <style>\n",
       "                .geemap-dark {\n",
       "                    --jp-widgets-color: white;\n",
       "                    --jp-widgets-label-color: white;\n",
       "                    --jp-ui-font-color1: white;\n",
       "                    --jp-layout-color2: #454545;\n",
       "                    background-color: #383838;\n",
       "                }\n",
       "\n",
       "                .geemap-dark .jupyter-button {\n",
       "                    --jp-layout-color3: #383838;\n",
       "                }\n",
       "\n",
       "                .geemap-colab {\n",
       "                    background-color: var(--colab-primary-surface-color, white);\n",
       "                }\n",
       "\n",
       "                .geemap-colab .jupyter-button {\n",
       "                    --jp-layout-color3: var(--colab-primary-surface-color, white);\n",
       "                }\n",
       "            </style>\n",
       "            "
      ],
      "text/plain": [
       "<IPython.core.display.HTML object>"
      ]
     },
     "metadata": {},
     "output_type": "display_data"
    },
    {
     "name": "stdout",
     "output_type": "stream",
     "text": [
      "Export initiated!\n"
     ]
    }
   ],
   "source": [
    "## Define export parameters\n",
    "export_params = {\n",
    "    'image': clipped_image.select(indices_to_visualize),\n",
    "    'description': f'spectral_indices_{watershed_id}',\n",
    "    'scale': 30,  # Adjust scale as needed\n",
    "    'region': ee.Geometry(watershed_geometry).bounds()  # Convert dictionary to Geometry and then get bounds\n",
    "}\n",
    "\n",
    "# Export as GeoTIFF\n",
    "task = ee.batch.Export.image.toDrive(**export_params)\n",
    "task.start()\n",
    "\n",
    "print(\"Export initiated!\")\n"
   ]
  }
 ],
 "metadata": {
  "kernelspec": {
   "display_name": "Python 3 (ipykernel)",
   "language": "python",
   "name": "python3"
  },
  "language_info": {
   "codemirror_mode": {
    "name": "ipython",
    "version": 3
   },
   "file_extension": ".py",
   "mimetype": "text/x-python",
   "name": "python",
   "nbconvert_exporter": "python",
   "pygments_lexer": "ipython3",
   "version": "3.12.2"
  }
 },
 "nbformat": 4,
 "nbformat_minor": 5
}
